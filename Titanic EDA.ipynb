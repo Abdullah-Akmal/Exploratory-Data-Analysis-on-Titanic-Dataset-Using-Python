{
 "cells": [
  {
   "cell_type": "markdown",
   "id": "78e3b838",
   "metadata": {},
   "source": [
    "## Kagle Titanic Dataset\n",
    "## Source: https://www.kaggle.com/competitions/titanic/data\n",
    "\n",
    "#### Libraries Imported:\n",
    "1. **pandas**: Used for data manipulation and analysis (working with DataFrames).\n",
    "2. **numpy**: Provides support for numerical operations and array handling.\n",
    "3. **seaborn**: A statistical data visualization library built on top of `matplotlib`.\n",
    "4. **matplotlib.pyplot**: Used for basic plotting and graphing.\n",
    "5. **warnings**: Manages warnings to avoid clutter in the output.\n",
    "\n",
    "This setup is ideal for working with datasets, performing exploratory data analysis (EDA), and visualizing the results in a clean, non-intrusive manner.\n"
   ]
  },
  {
   "cell_type": "code",
   "execution_count": null,
   "id": "d7b8741f",
   "metadata": {},
   "outputs": [],
   "source": [
    "# Importing essential libraries\n",
    "\n",
    "# pandas is used for data manipulation and handling DataFrames\n",
    "import pandas as pd\n",
    "\n",
    "# numpy is used for numerical operations and array handling\n",
    "import numpy as np\n",
    "\n",
    "# seaborn provides statistical data visualization tools (built on matplotlib)\n",
    "import seaborn as sns\n",
    "\n",
    "# matplotlib.pyplot is used for basic plotting and visualization\n",
    "import matplotlib.pyplot as plt\n",
    "\n",
    "# Suppress warnings to avoid clutter in the output\n",
    "import warnings\n",
    "warnings.filterwarnings('ignore')  # Ignores warnings that may not be important for analysis"
   ]
  },
  {
   "cell_type": "markdown",
   "id": "27dd8556",
   "metadata": {},
   "source": [
    "### Loading the Titanic Dataset:\n",
    "\n",
    "This code snippet reads a CSV file containing the Titanic dataset into a pandas DataFrame and displays the first 10 rows. The Titanic dataset contains information about passengers who were aboard the Titanic, including details like their class, age, fare, and whether they survived.\n",
    "\n",
    "#### Steps:\n",
    "1. **Reading CSV File**: We use `pd.read_csv()` to load the dataset from a specified file path.\n",
    "2. **Viewing Data**: The `.head(10)` function is used to display the first 10 rows of the DataFrame. This helps us get a quick overview of the structure of the data.\n"
   ]
  },
  {
   "cell_type": "code",
   "execution_count": null,
   "id": "b955af52",
   "metadata": {},
   "outputs": [
    {
     "data": {
      "application/vnd.microsoft.datawrangler.viewer.v0+json": {
       "columns": [
        {
         "name": "index",
         "rawType": "int64",
         "type": "integer"
        },
        {
         "name": "PassengerId",
         "rawType": "int64",
         "type": "integer"
        },
        {
         "name": "Survived",
         "rawType": "int64",
         "type": "integer"
        },
        {
         "name": "Pclass",
         "rawType": "int64",
         "type": "integer"
        },
        {
         "name": "Name",
         "rawType": "object",
         "type": "string"
        },
        {
         "name": "Sex",
         "rawType": "object",
         "type": "string"
        },
        {
         "name": "Age",
         "rawType": "float64",
         "type": "float"
        },
        {
         "name": "SibSp",
         "rawType": "int64",
         "type": "integer"
        },
        {
         "name": "Parch",
         "rawType": "int64",
         "type": "integer"
        },
        {
         "name": "Ticket",
         "rawType": "object",
         "type": "string"
        },
        {
         "name": "Fare",
         "rawType": "float64",
         "type": "float"
        },
        {
         "name": "Cabin",
         "rawType": "object",
         "type": "unknown"
        },
        {
         "name": "Embarked",
         "rawType": "object",
         "type": "string"
        }
       ],
       "conversionMethod": "pd.DataFrame",
       "ref": "4f8c37bd-40ba-412b-a146-82db27acbaeb",
       "rows": [
        [
         "0",
         "1",
         "0",
         "3",
         "Braund, Mr. Owen Harris",
         "male",
         "22.0",
         "1",
         "0",
         "A/5 21171",
         "7.25",
         null,
         "S"
        ],
        [
         "1",
         "2",
         "1",
         "1",
         "Cumings, Mrs. John Bradley (Florence Briggs Thayer)",
         "female",
         "38.0",
         "1",
         "0",
         "PC 17599",
         "71.2833",
         "C85",
         "C"
        ],
        [
         "2",
         "3",
         "1",
         "3",
         "Heikkinen, Miss. Laina",
         "female",
         "26.0",
         "0",
         "0",
         "STON/O2. 3101282",
         "7.925",
         null,
         "S"
        ],
        [
         "3",
         "4",
         "1",
         "1",
         "Futrelle, Mrs. Jacques Heath (Lily May Peel)",
         "female",
         "35.0",
         "1",
         "0",
         "113803",
         "53.1",
         "C123",
         "S"
        ],
        [
         "4",
         "5",
         "0",
         "3",
         "Allen, Mr. William Henry",
         "male",
         "35.0",
         "0",
         "0",
         "373450",
         "8.05",
         null,
         "S"
        ],
        [
         "5",
         "6",
         "0",
         "3",
         "Moran, Mr. James",
         "male",
         null,
         "0",
         "0",
         "330877",
         "8.4583",
         null,
         "Q"
        ],
        [
         "6",
         "7",
         "0",
         "1",
         "McCarthy, Mr. Timothy J",
         "male",
         "54.0",
         "0",
         "0",
         "17463",
         "51.8625",
         "E46",
         "S"
        ],
        [
         "7",
         "8",
         "0",
         "3",
         "Palsson, Master. Gosta Leonard",
         "male",
         "2.0",
         "3",
         "1",
         "349909",
         "21.075",
         null,
         "S"
        ],
        [
         "8",
         "9",
         "1",
         "3",
         "Johnson, Mrs. Oscar W (Elisabeth Vilhelmina Berg)",
         "female",
         "27.0",
         "0",
         "2",
         "347742",
         "11.1333",
         null,
         "S"
        ],
        [
         "9",
         "10",
         "1",
         "2",
         "Nasser, Mrs. Nicholas (Adele Achem)",
         "female",
         "14.0",
         "1",
         "0",
         "237736",
         "30.0708",
         null,
         "C"
        ]
       ],
       "shape": {
        "columns": 12,
        "rows": 10
       }
      },
      "text/html": [
       "<div>\n",
       "<style scoped>\n",
       "    .dataframe tbody tr th:only-of-type {\n",
       "        vertical-align: middle;\n",
       "    }\n",
       "\n",
       "    .dataframe tbody tr th {\n",
       "        vertical-align: top;\n",
       "    }\n",
       "\n",
       "    .dataframe thead th {\n",
       "        text-align: right;\n",
       "    }\n",
       "</style>\n",
       "<table border=\"1\" class=\"dataframe\">\n",
       "  <thead>\n",
       "    <tr style=\"text-align: right;\">\n",
       "      <th></th>\n",
       "      <th>PassengerId</th>\n",
       "      <th>Survived</th>\n",
       "      <th>Pclass</th>\n",
       "      <th>Name</th>\n",
       "      <th>Sex</th>\n",
       "      <th>Age</th>\n",
       "      <th>SibSp</th>\n",
       "      <th>Parch</th>\n",
       "      <th>Ticket</th>\n",
       "      <th>Fare</th>\n",
       "      <th>Cabin</th>\n",
       "      <th>Embarked</th>\n",
       "    </tr>\n",
       "  </thead>\n",
       "  <tbody>\n",
       "    <tr>\n",
       "      <th>0</th>\n",
       "      <td>1</td>\n",
       "      <td>0</td>\n",
       "      <td>3</td>\n",
       "      <td>Braund, Mr. Owen Harris</td>\n",
       "      <td>male</td>\n",
       "      <td>22.0</td>\n",
       "      <td>1</td>\n",
       "      <td>0</td>\n",
       "      <td>A/5 21171</td>\n",
       "      <td>7.2500</td>\n",
       "      <td>NaN</td>\n",
       "      <td>S</td>\n",
       "    </tr>\n",
       "    <tr>\n",
       "      <th>1</th>\n",
       "      <td>2</td>\n",
       "      <td>1</td>\n",
       "      <td>1</td>\n",
       "      <td>Cumings, Mrs. John Bradley (Florence Briggs Th...</td>\n",
       "      <td>female</td>\n",
       "      <td>38.0</td>\n",
       "      <td>1</td>\n",
       "      <td>0</td>\n",
       "      <td>PC 17599</td>\n",
       "      <td>71.2833</td>\n",
       "      <td>C85</td>\n",
       "      <td>C</td>\n",
       "    </tr>\n",
       "    <tr>\n",
       "      <th>2</th>\n",
       "      <td>3</td>\n",
       "      <td>1</td>\n",
       "      <td>3</td>\n",
       "      <td>Heikkinen, Miss. Laina</td>\n",
       "      <td>female</td>\n",
       "      <td>26.0</td>\n",
       "      <td>0</td>\n",
       "      <td>0</td>\n",
       "      <td>STON/O2. 3101282</td>\n",
       "      <td>7.9250</td>\n",
       "      <td>NaN</td>\n",
       "      <td>S</td>\n",
       "    </tr>\n",
       "    <tr>\n",
       "      <th>3</th>\n",
       "      <td>4</td>\n",
       "      <td>1</td>\n",
       "      <td>1</td>\n",
       "      <td>Futrelle, Mrs. Jacques Heath (Lily May Peel)</td>\n",
       "      <td>female</td>\n",
       "      <td>35.0</td>\n",
       "      <td>1</td>\n",
       "      <td>0</td>\n",
       "      <td>113803</td>\n",
       "      <td>53.1000</td>\n",
       "      <td>C123</td>\n",
       "      <td>S</td>\n",
       "    </tr>\n",
       "    <tr>\n",
       "      <th>4</th>\n",
       "      <td>5</td>\n",
       "      <td>0</td>\n",
       "      <td>3</td>\n",
       "      <td>Allen, Mr. William Henry</td>\n",
       "      <td>male</td>\n",
       "      <td>35.0</td>\n",
       "      <td>0</td>\n",
       "      <td>0</td>\n",
       "      <td>373450</td>\n",
       "      <td>8.0500</td>\n",
       "      <td>NaN</td>\n",
       "      <td>S</td>\n",
       "    </tr>\n",
       "    <tr>\n",
       "      <th>5</th>\n",
       "      <td>6</td>\n",
       "      <td>0</td>\n",
       "      <td>3</td>\n",
       "      <td>Moran, Mr. James</td>\n",
       "      <td>male</td>\n",
       "      <td>NaN</td>\n",
       "      <td>0</td>\n",
       "      <td>0</td>\n",
       "      <td>330877</td>\n",
       "      <td>8.4583</td>\n",
       "      <td>NaN</td>\n",
       "      <td>Q</td>\n",
       "    </tr>\n",
       "    <tr>\n",
       "      <th>6</th>\n",
       "      <td>7</td>\n",
       "      <td>0</td>\n",
       "      <td>1</td>\n",
       "      <td>McCarthy, Mr. Timothy J</td>\n",
       "      <td>male</td>\n",
       "      <td>54.0</td>\n",
       "      <td>0</td>\n",
       "      <td>0</td>\n",
       "      <td>17463</td>\n",
       "      <td>51.8625</td>\n",
       "      <td>E46</td>\n",
       "      <td>S</td>\n",
       "    </tr>\n",
       "    <tr>\n",
       "      <th>7</th>\n",
       "      <td>8</td>\n",
       "      <td>0</td>\n",
       "      <td>3</td>\n",
       "      <td>Palsson, Master. Gosta Leonard</td>\n",
       "      <td>male</td>\n",
       "      <td>2.0</td>\n",
       "      <td>3</td>\n",
       "      <td>1</td>\n",
       "      <td>349909</td>\n",
       "      <td>21.0750</td>\n",
       "      <td>NaN</td>\n",
       "      <td>S</td>\n",
       "    </tr>\n",
       "    <tr>\n",
       "      <th>8</th>\n",
       "      <td>9</td>\n",
       "      <td>1</td>\n",
       "      <td>3</td>\n",
       "      <td>Johnson, Mrs. Oscar W (Elisabeth Vilhelmina Berg)</td>\n",
       "      <td>female</td>\n",
       "      <td>27.0</td>\n",
       "      <td>0</td>\n",
       "      <td>2</td>\n",
       "      <td>347742</td>\n",
       "      <td>11.1333</td>\n",
       "      <td>NaN</td>\n",
       "      <td>S</td>\n",
       "    </tr>\n",
       "    <tr>\n",
       "      <th>9</th>\n",
       "      <td>10</td>\n",
       "      <td>1</td>\n",
       "      <td>2</td>\n",
       "      <td>Nasser, Mrs. Nicholas (Adele Achem)</td>\n",
       "      <td>female</td>\n",
       "      <td>14.0</td>\n",
       "      <td>1</td>\n",
       "      <td>0</td>\n",
       "      <td>237736</td>\n",
       "      <td>30.0708</td>\n",
       "      <td>NaN</td>\n",
       "      <td>C</td>\n",
       "    </tr>\n",
       "  </tbody>\n",
       "</table>\n",
       "</div>"
      ],
      "text/plain": [
       "   PassengerId  Survived  Pclass  \\\n",
       "0            1         0       3   \n",
       "1            2         1       1   \n",
       "2            3         1       3   \n",
       "3            4         1       1   \n",
       "4            5         0       3   \n",
       "5            6         0       3   \n",
       "6            7         0       1   \n",
       "7            8         0       3   \n",
       "8            9         1       3   \n",
       "9           10         1       2   \n",
       "\n",
       "                                                Name     Sex   Age  SibSp  \\\n",
       "0                            Braund, Mr. Owen Harris    male  22.0      1   \n",
       "1  Cumings, Mrs. John Bradley (Florence Briggs Th...  female  38.0      1   \n",
       "2                             Heikkinen, Miss. Laina  female  26.0      0   \n",
       "3       Futrelle, Mrs. Jacques Heath (Lily May Peel)  female  35.0      1   \n",
       "4                           Allen, Mr. William Henry    male  35.0      0   \n",
       "5                                   Moran, Mr. James    male   NaN      0   \n",
       "6                            McCarthy, Mr. Timothy J    male  54.0      0   \n",
       "7                     Palsson, Master. Gosta Leonard    male   2.0      3   \n",
       "8  Johnson, Mrs. Oscar W (Elisabeth Vilhelmina Berg)  female  27.0      0   \n",
       "9                Nasser, Mrs. Nicholas (Adele Achem)  female  14.0      1   \n",
       "\n",
       "   Parch            Ticket     Fare Cabin Embarked  \n",
       "0      0         A/5 21171   7.2500   NaN        S  \n",
       "1      0          PC 17599  71.2833   C85        C  \n",
       "2      0  STON/O2. 3101282   7.9250   NaN        S  \n",
       "3      0            113803  53.1000  C123        S  \n",
       "4      0            373450   8.0500   NaN        S  \n",
       "5      0            330877   8.4583   NaN        Q  \n",
       "6      0             17463  51.8625   E46        S  \n",
       "7      1            349909  21.0750   NaN        S  \n",
       "8      2            347742  11.1333   NaN        S  \n",
       "9      0            237736  30.0708   NaN        C  "
      ]
     },
     "execution_count": 75,
     "metadata": {},
     "output_type": "execute_result"
    }
   ],
   "source": [
    "# Reading the Titanic dataset from a CSV file into a DataFrame\n",
    "df = pd.read_csv(\"C:/Users/Ak/Desktop/Titanic Dataset.csv\")  # Modify the path as needed\n",
    "\n",
    "# Displaying the first 10 rows of the DataFrame\n",
    "df.head(10)  # The .head(10) method returns the first 10 rows of the DataFrame"
   ]
  },
  {
   "cell_type": "markdown",
   "id": "964f987d",
   "metadata": {},
   "source": [
    "### Inspecting Dataset Information and Shape:\n",
    "\n",
    "In this code snippet, we are performing two key tasks:\n",
    "1. **Getting Basic Info**: We use the `.info()` method to obtain concise details about the DataFrame such as the number of non-null entries, data types of each column, and memory usage.\n",
    "2. **Shape of the Dataset**: We use `.shape` to get the dimensions (rows and columns) of the dataset. This is useful for understanding the size of the dataset before diving into analysis.\n",
    "\n",
    "#### Output:\n",
    "- **`df.info()`**: Provides an overview of the dataset, including data types and missing values.\n",
    "- **`df.shape`**: Returns the number of rows and columns as a tuple `(rows, columns)`.\n"
   ]
  },
  {
   "cell_type": "code",
   "execution_count": null,
   "id": "cab7ef9c",
   "metadata": {},
   "outputs": [
    {
     "name": "stdout",
     "output_type": "stream",
     "text": [
      "<class 'pandas.core.frame.DataFrame'>\n",
      "RangeIndex: 891 entries, 0 to 890\n",
      "Data columns (total 12 columns):\n",
      " #   Column       Non-Null Count  Dtype  \n",
      "---  ------       --------------  -----  \n",
      " 0   PassengerId  891 non-null    int64  \n",
      " 1   Survived     891 non-null    int64  \n",
      " 2   Pclass       891 non-null    int64  \n",
      " 3   Name         891 non-null    object \n",
      " 4   Sex          891 non-null    object \n",
      " 5   Age          714 non-null    float64\n",
      " 6   SibSp        891 non-null    int64  \n",
      " 7   Parch        891 non-null    int64  \n",
      " 8   Ticket       891 non-null    object \n",
      " 9   Fare         891 non-null    float64\n",
      " 10  Cabin        204 non-null    object \n",
      " 11  Embarked     889 non-null    object \n",
      "dtypes: float64(2), int64(5), object(5)\n",
      "memory usage: 83.7+ KB\n",
      "None\n",
      "Shape of Dataset: (891, 12)\n"
     ]
    }
   ],
   "source": [
    "# Displaying information about the DataFrame\n",
    "print(df.info())  # .info() method provides details like column data types, non-null counts, and memory usage\n",
    "\n",
    "# Displaying the shape (number of rows and columns) of the DataFrame\n",
    "print(\"Shape of Dataset:\", df.shape)  # .shape returns the tuple (rows, columns)"
   ]
  },
  {
   "cell_type": "markdown",
   "id": "656bc3e2",
   "metadata": {},
   "source": [
    "### Analyzing Missing Data:\n",
    "\n",
    "This code snippet calculates the number of missing values in each column and their percentage representation. It then displays the results in a DataFrame, sorted by the percentage of missing values.\n",
    "\n",
    "#### Steps:\n",
    "1. **Count of Missing Values**: We use the `isnull()` function followed by `.sum()` to calculate the total number of missing values per column.\n",
    "2. **Percentage of Missing Values**: We calculate the percentage of missing values by using `isnull().mean()` and multiplying by 100 to convert it into a percentage.\n",
    "3. **Creating a DataFrame**: The results are stored in a new DataFrame, `missing_df`, with two columns: 'Missing Values' and 'Percentage (%)'.\n",
    "4. **Sorting the Results**: We use `.sort_values()` to sort the columns by the percentage of missing data, in descending order.\n",
    "\n",
    "#### Output:\n",
    "- The final result is a sorted list of columns with missing data, starting from the column with the highest percentage of missing values.\n",
    "``\n"
   ]
  },
  {
   "cell_type": "code",
   "execution_count": null,
   "id": "5310fa5a",
   "metadata": {},
   "outputs": [
    {
     "name": "stdout",
     "output_type": "stream",
     "text": [
      "             Missing Values  Percentage (%)\n",
      "Cabin                   687           77.10\n",
      "Age                     177           19.87\n",
      "Embarked                  2            0.22\n",
      "PassengerId               0            0.00\n",
      "Name                      0            0.00\n",
      "Pclass                    0            0.00\n",
      "Survived                  0            0.00\n",
      "Sex                       0            0.00\n",
      "Parch                     0            0.00\n",
      "SibSp                     0            0.00\n",
      "Fare                      0            0.00\n",
      "Ticket                    0            0.00\n"
     ]
    }
   ],
   "source": [
    "# Calculate the total number of missing values in each column\n",
    "missing = df.isnull().sum()  # .isnull() returns a DataFrame of True/False values, .sum() gives the total missing values\n",
    "\n",
    "# Calculate the percentage of missing values for each column\n",
    "percent_missing = (df.isnull().mean() * 100).round(2)  # .mean() gives the fraction of missing values, multiplied by 100 for percentage\n",
    "\n",
    "# Create a new DataFrame to display the missing values and their percentage\n",
    "missing_df = pd.DataFrame({'Missing Values': missing, 'Percentage (%)': percent_missing})\n",
    "\n",
    "# Sort the missing data by the percentage in descending order and display the results\n",
    "print(missing_df.sort_values('Percentage (%)', ascending=False))  # Sorting by 'Percentage (%)' to show columns with most missing data"
   ]
  },
  {
   "cell_type": "markdown",
   "id": "dd8a4477",
   "metadata": {},
   "source": [
    "### Dropping Columns with High Percentage of Missing Values:\n",
    "\n",
    "In this code, we are removing columns from the DataFrame that have more than 60% missing values. This helps in cleaning the dataset by eliminating features that are too incomplete to be useful for analysis.\n",
    "\n",
    "#### Steps:\n",
    "1. **Identify Columns with High Missing Data**: We use the `percent_missing` variable to find columns with more than 60% missing values.\n",
    "2. **Drop Columns**: The `.drop()` method is applied to remove these columns from the DataFrame.\n",
    "3. **Display Remaining Columns**: Finally, we check the remaining columns using `.columns`.\n",
    "\n",
    "#### Output:\n",
    "- The result is a DataFrame without the columns that had more than 60% missing values.\n"
   ]
  },
  {
   "cell_type": "code",
   "execution_count": null,
   "id": "1fb70cbf",
   "metadata": {},
   "outputs": [
    {
     "data": {
      "text/plain": [
       "Index(['PassengerId', 'Survived', 'Pclass', 'Name', 'Sex', 'Age', 'SibSp',\n",
       "       'Parch', 'Ticket', 'Fare', 'Embarked'],\n",
       "      dtype='object')"
      ]
     },
     "execution_count": 78,
     "metadata": {},
     "output_type": "execute_result"
    }
   ],
   "source": [
    "# Drop columns where the percentage of missing values is greater than 60%\n",
    "df.drop(columns=missing[percent_missing > 60].index, inplace=True)  # Removes columns with high missing data (above 60%)\n",
    "\n",
    "# Display the remaining columns after dropping the high-missing columns\n",
    "df.columns  # Shows the list of columns left in the DataFrame"
   ]
  },
  {
   "cell_type": "markdown",
   "id": "a4e89195",
   "metadata": {},
   "source": [
    "### Imputing Missing Values in the 'Age' Column:\n",
    "\n",
    "In this code, we are filling the missing values in the 'Age' column with the **median** of the non-missing values in the same column. Imputation helps retain the row data without losing any rows due to missing values.\n",
    "\n",
    "#### Steps:\n",
    "1. **Impute Missing Data with Median**: The missing values in the 'Age' column are replaced with the median value of the column, using the `.fillna()` method.\n",
    "2. **Verify the Imputation**: We use `.isnull().sum()` to check if there are any remaining missing values in the dataset.\n",
    "\n",
    "#### Output:\n",
    "- The result will show that there are no more missing values in the 'Age' column after the imputation.\n"
   ]
  },
  {
   "cell_type": "code",
   "execution_count": null,
   "id": "d4797af7",
   "metadata": {},
   "outputs": [
    {
     "data": {
      "text/plain": [
       "PassengerId    0\n",
       "Survived       0\n",
       "Pclass         0\n",
       "Name           0\n",
       "Sex            0\n",
       "Age            0\n",
       "SibSp          0\n",
       "Parch          0\n",
       "Ticket         0\n",
       "Fare           0\n",
       "Embarked       2\n",
       "dtype: int64"
      ]
     },
     "execution_count": 79,
     "metadata": {},
     "output_type": "execute_result"
    }
   ],
   "source": [
    "# Impute missing values in the 'Age' column with the median of the column\n",
    "df['Age'].fillna(df['Age'].median(), inplace=True)  # Replaces NaN in 'Age' with the median value of 'Age'\n",
    "\n",
    "# Verify if there are any remaining missing values in the dataset\n",
    "df.isnull().sum()  # Checks and counts any remaining missing values in the DataFrame"
   ]
  },
  {
   "cell_type": "markdown",
   "id": "f159a863",
   "metadata": {},
   "source": [
    "### Generating Summary Statistics of the Dataset:\n",
    "\n",
    "The `describe()` function provides a quick overview of the statistical summary of numerical columns in the dataset. Transposing the result (`.T`) allows us to view the summary statistics for each column in a more readable format.\n",
    "\n",
    "#### Steps:\n",
    "1. **Generate Descriptive Statistics**: The `describe()` method generates summary statistics for numeric columns like count, mean, standard deviation, min, and max values, along with quartiles (25%, 50%, and 75%).\n",
    "2. **Transpose the Output**: The `.T` transposes the result, flipping rows and columns, making it easier to read when working with many features.\n",
    "\n",
    "#### Output:\n",
    "- A transposed table will display key statistics such as mean, standard deviation, minimum, maximum, and percentiles for each numeric column in the dataset.\n"
   ]
  },
  {
   "cell_type": "code",
   "execution_count": null,
   "id": "0c9ed7c0",
   "metadata": {},
   "outputs": [
    {
     "data": {
      "application/vnd.microsoft.datawrangler.viewer.v0+json": {
       "columns": [
        {
         "name": "index",
         "rawType": "object",
         "type": "string"
        },
        {
         "name": "count",
         "rawType": "float64",
         "type": "float"
        },
        {
         "name": "mean",
         "rawType": "float64",
         "type": "float"
        },
        {
         "name": "std",
         "rawType": "float64",
         "type": "float"
        },
        {
         "name": "min",
         "rawType": "float64",
         "type": "float"
        },
        {
         "name": "25%",
         "rawType": "float64",
         "type": "float"
        },
        {
         "name": "50%",
         "rawType": "float64",
         "type": "float"
        },
        {
         "name": "75%",
         "rawType": "float64",
         "type": "float"
        },
        {
         "name": "max",
         "rawType": "float64",
         "type": "float"
        }
       ],
       "conversionMethod": "pd.DataFrame",
       "ref": "6fb18cca-3d18-450c-8364-9423e8a8967b",
       "rows": [
        [
         "PassengerId",
         "891.0",
         "446.0",
         "257.3538420152301",
         "1.0",
         "223.5",
         "446.0",
         "668.5",
         "891.0"
        ],
        [
         "Survived",
         "891.0",
         "0.3838383838383838",
         "0.4865924542648575",
         "0.0",
         "0.0",
         "0.0",
         "1.0",
         "1.0"
        ],
        [
         "Pclass",
         "891.0",
         "2.308641975308642",
         "0.836071240977049",
         "1.0",
         "2.0",
         "3.0",
         "3.0",
         "3.0"
        ],
        [
         "Age",
         "891.0",
         "29.36158249158249",
         "13.019696550973201",
         "0.42",
         "22.0",
         "28.0",
         "35.0",
         "80.0"
        ],
        [
         "SibSp",
         "891.0",
         "0.5230078563411896",
         "1.1027434322934317",
         "0.0",
         "0.0",
         "0.0",
         "1.0",
         "8.0"
        ],
        [
         "Parch",
         "891.0",
         "0.38159371492704824",
         "0.8060572211299483",
         "0.0",
         "0.0",
         "0.0",
         "0.0",
         "6.0"
        ],
        [
         "Fare",
         "891.0",
         "32.204207968574636",
         "49.6934285971809",
         "0.0",
         "7.9104",
         "14.4542",
         "31.0",
         "512.3292"
        ]
       ],
       "shape": {
        "columns": 8,
        "rows": 7
       }
      },
      "text/html": [
       "<div>\n",
       "<style scoped>\n",
       "    .dataframe tbody tr th:only-of-type {\n",
       "        vertical-align: middle;\n",
       "    }\n",
       "\n",
       "    .dataframe tbody tr th {\n",
       "        vertical-align: top;\n",
       "    }\n",
       "\n",
       "    .dataframe thead th {\n",
       "        text-align: right;\n",
       "    }\n",
       "</style>\n",
       "<table border=\"1\" class=\"dataframe\">\n",
       "  <thead>\n",
       "    <tr style=\"text-align: right;\">\n",
       "      <th></th>\n",
       "      <th>count</th>\n",
       "      <th>mean</th>\n",
       "      <th>std</th>\n",
       "      <th>min</th>\n",
       "      <th>25%</th>\n",
       "      <th>50%</th>\n",
       "      <th>75%</th>\n",
       "      <th>max</th>\n",
       "    </tr>\n",
       "  </thead>\n",
       "  <tbody>\n",
       "    <tr>\n",
       "      <th>PassengerId</th>\n",
       "      <td>891.0</td>\n",
       "      <td>446.000000</td>\n",
       "      <td>257.353842</td>\n",
       "      <td>1.00</td>\n",
       "      <td>223.5000</td>\n",
       "      <td>446.0000</td>\n",
       "      <td>668.5</td>\n",
       "      <td>891.0000</td>\n",
       "    </tr>\n",
       "    <tr>\n",
       "      <th>Survived</th>\n",
       "      <td>891.0</td>\n",
       "      <td>0.383838</td>\n",
       "      <td>0.486592</td>\n",
       "      <td>0.00</td>\n",
       "      <td>0.0000</td>\n",
       "      <td>0.0000</td>\n",
       "      <td>1.0</td>\n",
       "      <td>1.0000</td>\n",
       "    </tr>\n",
       "    <tr>\n",
       "      <th>Pclass</th>\n",
       "      <td>891.0</td>\n",
       "      <td>2.308642</td>\n",
       "      <td>0.836071</td>\n",
       "      <td>1.00</td>\n",
       "      <td>2.0000</td>\n",
       "      <td>3.0000</td>\n",
       "      <td>3.0</td>\n",
       "      <td>3.0000</td>\n",
       "    </tr>\n",
       "    <tr>\n",
       "      <th>Age</th>\n",
       "      <td>891.0</td>\n",
       "      <td>29.361582</td>\n",
       "      <td>13.019697</td>\n",
       "      <td>0.42</td>\n",
       "      <td>22.0000</td>\n",
       "      <td>28.0000</td>\n",
       "      <td>35.0</td>\n",
       "      <td>80.0000</td>\n",
       "    </tr>\n",
       "    <tr>\n",
       "      <th>SibSp</th>\n",
       "      <td>891.0</td>\n",
       "      <td>0.523008</td>\n",
       "      <td>1.102743</td>\n",
       "      <td>0.00</td>\n",
       "      <td>0.0000</td>\n",
       "      <td>0.0000</td>\n",
       "      <td>1.0</td>\n",
       "      <td>8.0000</td>\n",
       "    </tr>\n",
       "    <tr>\n",
       "      <th>Parch</th>\n",
       "      <td>891.0</td>\n",
       "      <td>0.381594</td>\n",
       "      <td>0.806057</td>\n",
       "      <td>0.00</td>\n",
       "      <td>0.0000</td>\n",
       "      <td>0.0000</td>\n",
       "      <td>0.0</td>\n",
       "      <td>6.0000</td>\n",
       "    </tr>\n",
       "    <tr>\n",
       "      <th>Fare</th>\n",
       "      <td>891.0</td>\n",
       "      <td>32.204208</td>\n",
       "      <td>49.693429</td>\n",
       "      <td>0.00</td>\n",
       "      <td>7.9104</td>\n",
       "      <td>14.4542</td>\n",
       "      <td>31.0</td>\n",
       "      <td>512.3292</td>\n",
       "    </tr>\n",
       "  </tbody>\n",
       "</table>\n",
       "</div>"
      ],
      "text/plain": [
       "             count        mean         std   min       25%       50%    75%  \\\n",
       "PassengerId  891.0  446.000000  257.353842  1.00  223.5000  446.0000  668.5   \n",
       "Survived     891.0    0.383838    0.486592  0.00    0.0000    0.0000    1.0   \n",
       "Pclass       891.0    2.308642    0.836071  1.00    2.0000    3.0000    3.0   \n",
       "Age          891.0   29.361582   13.019697  0.42   22.0000   28.0000   35.0   \n",
       "SibSp        891.0    0.523008    1.102743  0.00    0.0000    0.0000    1.0   \n",
       "Parch        891.0    0.381594    0.806057  0.00    0.0000    0.0000    0.0   \n",
       "Fare         891.0   32.204208   49.693429  0.00    7.9104   14.4542   31.0   \n",
       "\n",
       "                  max  \n",
       "PassengerId  891.0000  \n",
       "Survived       1.0000  \n",
       "Pclass         3.0000  \n",
       "Age           80.0000  \n",
       "SibSp          8.0000  \n",
       "Parch          6.0000  \n",
       "Fare         512.3292  "
      ]
     },
     "execution_count": 80,
     "metadata": {},
     "output_type": "execute_result"
    }
   ],
   "source": [
    "# Generate and transpose summary statistics for numeric columns in the DataFrame\n",
    "df.describe().T  # Provides a statistical summary of numeric columns and transposes the output for better readability"
   ]
  },
  {
   "cell_type": "markdown",
   "id": "02504930",
   "metadata": {},
   "source": [
    "### Handling Outliers in 'Age' and 'Fare' Columns Using IQR:\n",
    "\n",
    "In this code, we handle the outliers in the 'Age' and 'Fare' columns by applying the **Interquartile Range (IQR)** method. Outliers are defined as values that fall outside of the acceptable range determined by the IQR.\n",
    "\n",
    "#### Steps:\n",
    "1. **Calculate the IQR**: For each of the columns ('Age' and 'Fare'), we calculate the first (Q1) and third quartile (Q3), and then compute the IQR (difference between Q3 and Q1).\n",
    "2. **Define Outlier Bounds**: Using the IQR, we define the lower and upper bounds as `lower_bound = Q1 - 1.5 * IQR` and `upper_bound = Q3 + 1.5 * IQR`.\n",
    "3. **Collect Outliers (Optional)**: We identify the outliers, which are values outside these bounds. This is done using a filtering condition.\n",
    "4. **Clip the Values**: To handle the outliers, we \"clip\" the values within the bounds, effectively replacing any values below the lower bound with the lower bound and any values above the upper bound with the upper bound.\n",
    "\n",
    "#### Output:\n",
    "- The dataset will have its outliers in the 'Age' and 'Fare' columns clipped to the defined bounds. The statistical summary of the columns will be updated, and outliers will no longer skew the data.\n"
   ]
  },
  {
   "cell_type": "code",
   "execution_count": null,
   "id": "628334ce",
   "metadata": {},
   "outputs": [
    {
     "data": {
      "application/vnd.microsoft.datawrangler.viewer.v0+json": {
       "columns": [
        {
         "name": "index",
         "rawType": "object",
         "type": "string"
        },
        {
         "name": "count",
         "rawType": "float64",
         "type": "float"
        },
        {
         "name": "mean",
         "rawType": "float64",
         "type": "float"
        },
        {
         "name": "std",
         "rawType": "float64",
         "type": "float"
        },
        {
         "name": "min",
         "rawType": "float64",
         "type": "float"
        },
        {
         "name": "25%",
         "rawType": "float64",
         "type": "float"
        },
        {
         "name": "50%",
         "rawType": "float64",
         "type": "float"
        },
        {
         "name": "75%",
         "rawType": "float64",
         "type": "float"
        },
        {
         "name": "max",
         "rawType": "float64",
         "type": "float"
        }
       ],
       "conversionMethod": "pd.DataFrame",
       "ref": "776df560-b73b-4fcb-b7ae-e62a4317b37a",
       "rows": [
        [
         "PassengerId",
         "891.0",
         "446.0",
         "257.3538420152301",
         "1.0",
         "223.5",
         "446.0",
         "668.5",
         "891.0"
        ],
        [
         "Survived",
         "891.0",
         "0.3838383838383838",
         "0.4865924542648575",
         "0.0",
         "0.0",
         "0.0",
         "1.0",
         "1.0"
        ],
        [
         "Pclass",
         "891.0",
         "2.308641975308642",
         "0.836071240977049",
         "1.0",
         "2.0",
         "3.0",
         "3.0",
         "3.0"
        ],
        [
         "Age",
         "891.0",
         "29.039281705948373",
         "12.072074058244656",
         "2.5",
         "22.0",
         "28.0",
         "35.0",
         "54.5"
        ],
        [
         "SibSp",
         "891.0",
         "0.5230078563411896",
         "1.1027434322934317",
         "0.0",
         "0.0",
         "0.0",
         "1.0",
         "8.0"
        ],
        [
         "Parch",
         "891.0",
         "0.38159371492704824",
         "0.8060572211299483",
         "0.0",
         "0.0",
         "0.0",
         "0.0",
         "6.0"
        ],
        [
         "Fare",
         "891.0",
         "24.04681335578002",
         "20.481624525812144",
         "0.0",
         "7.9104",
         "14.4542",
         "31.0",
         "65.6344"
        ]
       ],
       "shape": {
        "columns": 8,
        "rows": 7
       }
      },
      "text/html": [
       "<div>\n",
       "<style scoped>\n",
       "    .dataframe tbody tr th:only-of-type {\n",
       "        vertical-align: middle;\n",
       "    }\n",
       "\n",
       "    .dataframe tbody tr th {\n",
       "        vertical-align: top;\n",
       "    }\n",
       "\n",
       "    .dataframe thead th {\n",
       "        text-align: right;\n",
       "    }\n",
       "</style>\n",
       "<table border=\"1\" class=\"dataframe\">\n",
       "  <thead>\n",
       "    <tr style=\"text-align: right;\">\n",
       "      <th></th>\n",
       "      <th>count</th>\n",
       "      <th>mean</th>\n",
       "      <th>std</th>\n",
       "      <th>min</th>\n",
       "      <th>25%</th>\n",
       "      <th>50%</th>\n",
       "      <th>75%</th>\n",
       "      <th>max</th>\n",
       "    </tr>\n",
       "  </thead>\n",
       "  <tbody>\n",
       "    <tr>\n",
       "      <th>PassengerId</th>\n",
       "      <td>891.0</td>\n",
       "      <td>446.000000</td>\n",
       "      <td>257.353842</td>\n",
       "      <td>1.0</td>\n",
       "      <td>223.5000</td>\n",
       "      <td>446.0000</td>\n",
       "      <td>668.5</td>\n",
       "      <td>891.0000</td>\n",
       "    </tr>\n",
       "    <tr>\n",
       "      <th>Survived</th>\n",
       "      <td>891.0</td>\n",
       "      <td>0.383838</td>\n",
       "      <td>0.486592</td>\n",
       "      <td>0.0</td>\n",
       "      <td>0.0000</td>\n",
       "      <td>0.0000</td>\n",
       "      <td>1.0</td>\n",
       "      <td>1.0000</td>\n",
       "    </tr>\n",
       "    <tr>\n",
       "      <th>Pclass</th>\n",
       "      <td>891.0</td>\n",
       "      <td>2.308642</td>\n",
       "      <td>0.836071</td>\n",
       "      <td>1.0</td>\n",
       "      <td>2.0000</td>\n",
       "      <td>3.0000</td>\n",
       "      <td>3.0</td>\n",
       "      <td>3.0000</td>\n",
       "    </tr>\n",
       "    <tr>\n",
       "      <th>Age</th>\n",
       "      <td>891.0</td>\n",
       "      <td>29.039282</td>\n",
       "      <td>12.072074</td>\n",
       "      <td>2.5</td>\n",
       "      <td>22.0000</td>\n",
       "      <td>28.0000</td>\n",
       "      <td>35.0</td>\n",
       "      <td>54.5000</td>\n",
       "    </tr>\n",
       "    <tr>\n",
       "      <th>SibSp</th>\n",
       "      <td>891.0</td>\n",
       "      <td>0.523008</td>\n",
       "      <td>1.102743</td>\n",
       "      <td>0.0</td>\n",
       "      <td>0.0000</td>\n",
       "      <td>0.0000</td>\n",
       "      <td>1.0</td>\n",
       "      <td>8.0000</td>\n",
       "    </tr>\n",
       "    <tr>\n",
       "      <th>Parch</th>\n",
       "      <td>891.0</td>\n",
       "      <td>0.381594</td>\n",
       "      <td>0.806057</td>\n",
       "      <td>0.0</td>\n",
       "      <td>0.0000</td>\n",
       "      <td>0.0000</td>\n",
       "      <td>0.0</td>\n",
       "      <td>6.0000</td>\n",
       "    </tr>\n",
       "    <tr>\n",
       "      <th>Fare</th>\n",
       "      <td>891.0</td>\n",
       "      <td>24.046813</td>\n",
       "      <td>20.481625</td>\n",
       "      <td>0.0</td>\n",
       "      <td>7.9104</td>\n",
       "      <td>14.4542</td>\n",
       "      <td>31.0</td>\n",
       "      <td>65.6344</td>\n",
       "    </tr>\n",
       "  </tbody>\n",
       "</table>\n",
       "</div>"
      ],
      "text/plain": [
       "             count        mean         std  min       25%       50%    75%  \\\n",
       "PassengerId  891.0  446.000000  257.353842  1.0  223.5000  446.0000  668.5   \n",
       "Survived     891.0    0.383838    0.486592  0.0    0.0000    0.0000    1.0   \n",
       "Pclass       891.0    2.308642    0.836071  1.0    2.0000    3.0000    3.0   \n",
       "Age          891.0   29.039282   12.072074  2.5   22.0000   28.0000   35.0   \n",
       "SibSp        891.0    0.523008    1.102743  0.0    0.0000    0.0000    1.0   \n",
       "Parch        891.0    0.381594    0.806057  0.0    0.0000    0.0000    0.0   \n",
       "Fare         891.0   24.046813   20.481625  0.0    7.9104   14.4542   31.0   \n",
       "\n",
       "                  max  \n",
       "PassengerId  891.0000  \n",
       "Survived       1.0000  \n",
       "Pclass         3.0000  \n",
       "Age           54.5000  \n",
       "SibSp          8.0000  \n",
       "Parch          6.0000  \n",
       "Fare          65.6344  "
      ]
     },
     "execution_count": 81,
     "metadata": {},
     "output_type": "execute_result"
    }
   ],
   "source": [
    "# Handle outliers in 'Age' and 'Fare' columns using the IQR method\n",
    "for col in ['Age', 'Fare']:\n",
    "    # Calculate the first and third quartiles (Q1 and Q3) for the column\n",
    "    Q1, Q3 = df[col].quantile([0.25, 0.75])\n",
    "    \n",
    "    # Calculate the Interquartile Range (IQR)\n",
    "    IQR = Q3 - Q1\n",
    "    \n",
    "    # Define the lower and upper bounds for outliers\n",
    "    lower_bound = Q1 - 1.5 * IQR\n",
    "    upper_bound = Q3 + 1.5 * IQR\n",
    "\n",
    "    # (Optional) Identify outliers (values outside the lower and upper bounds)\n",
    "    outliers = df[(df[col] < lower_bound) | (df[col] > upper_bound)]\n",
    "\n",
    "    # Clip values in the column to be within the lower and upper bounds\n",
    "    df[col] = df[col].clip(lower=lower_bound, upper=upper_bound)\n",
    "\n",
    "# Display updated statistical summary of the dataset after handling outliers\n",
    "df.describe().T  # Provides a summary of the numeric columns after the clipping"
   ]
  },
  {
   "cell_type": "markdown",
   "id": "d803d84c",
   "metadata": {},
   "source": [
    "### Exploring Categorical Features Using `df.describe(include=\"O\")`:\n",
    "\n",
    "In this section of the code, we explore the descriptive statistics for categorical columns in the dataset using the `describe()` function with the `include=\"O\"` parameter.\n",
    "\n",
    "#### Steps:\n",
    "- **`df.describe(include=\"O\")`**: This command generates a summary of statistics for **object** (categorical) columns. Object columns typically include strings, dates, or any data type that isn't numeric.\n",
    "- **Why Use `include=\"O\"`?**: By default, `df.describe()` provides statistics for numeric columns. To focus on categorical features, we use `include=\"O\"`, which targets object (categorical) data types.\n",
    "- **Key Statistics Provided**:\n",
    "  - **`count`**: The number of non-null entries in each categorical column.\n",
    "  - **`unique`**: The number of unique categories or values within the column.\n",
    "  - **`top`**: The most frequent category or value.\n",
    "  - **`freq`**: The frequency (count) of the most common category.\n",
    "\n",
    "#### Output:\n",
    "- The output will give you insights into the distribution and frequency of categorical features, helping in understanding the diversity of values and identifying potential issues such as rare categories.\n"
   ]
  },
  {
   "cell_type": "code",
   "execution_count": null,
   "id": "fd9a54b5",
   "metadata": {},
   "outputs": [
    {
     "data": {
      "application/vnd.microsoft.datawrangler.viewer.v0+json": {
       "columns": [
        {
         "name": "index",
         "rawType": "object",
         "type": "string"
        },
        {
         "name": "count",
         "rawType": "object",
         "type": "unknown"
        },
        {
         "name": "unique",
         "rawType": "object",
         "type": "unknown"
        },
        {
         "name": "top",
         "rawType": "object",
         "type": "string"
        },
        {
         "name": "freq",
         "rawType": "object",
         "type": "unknown"
        }
       ],
       "conversionMethod": "pd.DataFrame",
       "ref": "0cd724f9-98b1-4bc5-a7bc-993021712dce",
       "rows": [
        [
         "Name",
         "891",
         "891",
         "Dooley, Mr. Patrick",
         "1"
        ],
        [
         "Sex",
         "891",
         "2",
         "male",
         "577"
        ],
        [
         "Ticket",
         "891",
         "681",
         "347082",
         "7"
        ],
        [
         "Embarked",
         "889",
         "3",
         "S",
         "644"
        ]
       ],
       "shape": {
        "columns": 4,
        "rows": 4
       }
      },
      "text/html": [
       "<div>\n",
       "<style scoped>\n",
       "    .dataframe tbody tr th:only-of-type {\n",
       "        vertical-align: middle;\n",
       "    }\n",
       "\n",
       "    .dataframe tbody tr th {\n",
       "        vertical-align: top;\n",
       "    }\n",
       "\n",
       "    .dataframe thead th {\n",
       "        text-align: right;\n",
       "    }\n",
       "</style>\n",
       "<table border=\"1\" class=\"dataframe\">\n",
       "  <thead>\n",
       "    <tr style=\"text-align: right;\">\n",
       "      <th></th>\n",
       "      <th>count</th>\n",
       "      <th>unique</th>\n",
       "      <th>top</th>\n",
       "      <th>freq</th>\n",
       "    </tr>\n",
       "  </thead>\n",
       "  <tbody>\n",
       "    <tr>\n",
       "      <th>Name</th>\n",
       "      <td>891</td>\n",
       "      <td>891</td>\n",
       "      <td>Dooley, Mr. Patrick</td>\n",
       "      <td>1</td>\n",
       "    </tr>\n",
       "    <tr>\n",
       "      <th>Sex</th>\n",
       "      <td>891</td>\n",
       "      <td>2</td>\n",
       "      <td>male</td>\n",
       "      <td>577</td>\n",
       "    </tr>\n",
       "    <tr>\n",
       "      <th>Ticket</th>\n",
       "      <td>891</td>\n",
       "      <td>681</td>\n",
       "      <td>347082</td>\n",
       "      <td>7</td>\n",
       "    </tr>\n",
       "    <tr>\n",
       "      <th>Embarked</th>\n",
       "      <td>889</td>\n",
       "      <td>3</td>\n",
       "      <td>S</td>\n",
       "      <td>644</td>\n",
       "    </tr>\n",
       "  </tbody>\n",
       "</table>\n",
       "</div>"
      ],
      "text/plain": [
       "         count unique                  top freq\n",
       "Name       891    891  Dooley, Mr. Patrick    1\n",
       "Sex        891      2                 male  577\n",
       "Ticket     891    681               347082    7\n",
       "Embarked   889      3                    S  644"
      ]
     },
     "execution_count": 82,
     "metadata": {},
     "output_type": "execute_result"
    }
   ],
   "source": [
    "# Generate descriptive statistics for categorical (object) columns\n",
    "df.describe(include=\"O\").T  # Transpose the result for better readability"
   ]
  },
  {
   "cell_type": "markdown",
   "id": "5e6953e6",
   "metadata": {},
   "source": [
    "### Mapping Categorical Values in the 'Embarked' Column:\n",
    "\n",
    "In this section of the code, we map the abbreviated port names in the **'Embarked'** column to their full names using a dictionary. The `replace()` function is used to transform the abbreviations into more meaningful values.\n",
    "\n",
    "#### Steps:\n",
    "- **`embark_mapping = {'S': 'Southampton', 'Q': 'Queenstown', 'C': 'Cherbourg'}`**: We define a dictionary where each key corresponds to an abbreviated port name, and the associated value is the full name of the port.\n",
    "- **`df['Embarked'] = df['Embarked'].replace(embark_mapping)`**: The `replace()` function is used to apply this dictionary transformation to the 'Embarked' column. This will replace all occurrences of 'S' with 'Southampton', 'Q' with 'Queenstown', and 'C' with 'Cherbourg'.\n",
    "- **`df['Embarked'].value_counts()`**: This returns the count of each unique value in the 'Embarked' column after the transformation, allowing us to verify the changes.\n",
    "\n",
    "#### Why do we do this?\n",
    "- The transformation makes the data more readable by replacing the abbreviated port names with their full names. This enhances the interpretability of the data, especially in a real-world analysis or report.\n"
   ]
  },
  {
   "cell_type": "code",
   "execution_count": null,
   "id": "af8eca11",
   "metadata": {},
   "outputs": [
    {
     "data": {
      "text/plain": [
       "Embarked\n",
       "Southampton    644\n",
       "Cherbourg      168\n",
       "Queenstown      77\n",
       "Name: count, dtype: int64"
      ]
     },
     "execution_count": 85,
     "metadata": {},
     "output_type": "execute_result"
    }
   ],
   "source": [
    "# Define a dictionary to map the abbreviated port names to their full names\n",
    "embark_mapping = {'S': 'Southampton', 'Q': 'Queenstown', 'C': 'Cherbourg'}\n",
    "\n",
    "# Replace the abbreviations in the 'Embarked' column with their full names\n",
    "df['Embarked'] = df['Embarked'].replace(embark_mapping)\n",
    "\n",
    "# Check the distribution of the transformed values in the 'Embarked' column\n",
    "df['Embarked'].value_counts()"
   ]
  },
  {
   "cell_type": "markdown",
   "id": "1b6942da",
   "metadata": {},
   "source": [
    "### Creating a Pivot Table to Analyze Survival Rate by Sex and Pclass:\n",
    "\n",
    "In this section, we create a **pivot table** to explore the relationship between survival rates (`Survived`) and the two categorical variables, **'Sex'** and **'Pclass'**.\n",
    "\n",
    "#### Steps:\n",
    "- **`df.pivot_table(values='Survived', index='Sex', columns='Pclass', aggfunc='mean')`**: This line of code creates a pivot table from the Titanic dataset using the following:\n",
    "  - **`values='Survived'`**: We are interested in the survival status of passengers, which is represented by the **'Survived'** column. We will aggregate this data by calculating the mean survival rate for different groups.\n",
    "  - **`index='Sex'`**: The pivot table will have rows grouped by the passengers' **sex** (either male or female).\n",
    "  - **`columns='Pclass'`**: The pivot table will have columns grouped by the **Pclass** (passenger class), which is an ordinal feature (1st, 2nd, or 3rd class).\n",
    "  - **`aggfunc='mean'`**: The aggregation function applied is the **mean**, which calculates the average survival rate for each combination of **Sex** and **Pclass**.\n",
    "\n",
    "- **`print(pivot_table1)`**: Finally, the pivot table is printed to display the results.\n",
    "\n",
    "#### Why do we do this?\n",
    "- The pivot table allows us to examine how survival rates differ across different **passenger sexes** and **classes**. This provides insights into the factors that may have influenced survival, such as gender and class.\n",
    "\n"
   ]
  },
  {
   "cell_type": "code",
   "execution_count": null,
   "id": "a979988a",
   "metadata": {},
   "outputs": [
    {
     "name": "stdout",
     "output_type": "stream",
     "text": [
      "Pclass         1         2         3\n",
      "Sex                                 \n",
      "female  0.968085  0.921053  0.500000\n",
      "male    0.368852  0.157407  0.135447\n"
     ]
    }
   ],
   "source": [
    "# Create a pivot table to calculate the average survival rate based on 'Sex' and 'Pclass'\n",
    "pivot_table1 = df.pivot_table(values='Survived', index='Sex', columns='Pclass', aggfunc='mean')\n",
    "\n",
    "# Print the resulting pivot table\n",
    "print(pivot_table1)"
   ]
  },
  {
   "cell_type": "markdown",
   "id": "5ac56319",
   "metadata": {},
   "source": [
    "### Creating a Pivot Table to Analyze the Average Age by Survival Status:\n",
    "\n",
    "In this section, we create a **pivot table** to examine the average age of passengers who survived and those who did not survive.\n",
    "\n",
    "#### Steps:\n",
    "- **`df.pivot_table(values='Age', index='Survived', aggfunc='mean')`**: This line of code generates a pivot table that calculates the average age of passengers grouped by their survival status.\n",
    "  - **`values='Age'`**: The target column for aggregation is **'Age'**. We want to calculate the average age for each survival group.\n",
    "  - **`index='Survived'`**: The rows of the pivot table are grouped by **'Survived'**, so the data will be split into two groups: passengers who survived (1) and those who did not survive (0).\n",
    "  - **`aggfunc='mean'`**: The aggregation function used is **mean**, which calculates the average age for each survival group.\n",
    "\n",
    "- **`print(pivot_table2)`**: The pivot table is printed to display the results, showing the average age for each group (survived vs. not survived).\n",
    "\n",
    "#### Why do we do this?\n",
    "- This analysis allows us to compare the average age of passengers who survived and those who did not survive. It can help us understand if age had any significant impact on survival chances.\n",
    "\n",
    "\n"
   ]
  },
  {
   "cell_type": "code",
   "execution_count": null,
   "id": "de14c503",
   "metadata": {},
   "outputs": [
    {
     "name": "stdout",
     "output_type": "stream",
     "text": [
      "                Age\n",
      "Survived           \n",
      "0         29.616576\n",
      "1         28.112573\n"
     ]
    }
   ],
   "source": [
    "# Create a pivot table to calculate the average age for each survival status group\n",
    "pivot_table2 = df.pivot_table(values='Age', index='Survived', aggfunc='mean')\n",
    "\n",
    "# Print the resulting pivot table\n",
    "print(pivot_table2)"
   ]
  },
  {
   "cell_type": "markdown",
   "id": "cfa1be5c",
   "metadata": {},
   "source": [
    "### Bar Chart for Passenger Class Distribution:\n",
    "\n",
    "In this section, we generate a **bar chart** to visualize the distribution of passengers across different passenger classes.\n",
    "\n",
    "#### Steps:\n",
    "- **`sns.countplot(x='Pclass', data=df)`**: This line of code creates a **countplot**, which is a type of bar plot used to show the frequency of occurrences for each class in the **'Pclass'** column.\n",
    "  - **`x='Pclass'`**: This specifies that we want to visualize the distribution based on the **'Pclass'** column, which represents the passenger class (1st, 2nd, and 3rd class).\n",
    "  - **`data=df`**: This tells seaborn to use the DataFrame `df` for plotting.\n",
    "\n",
    "- **`plt.title(\"Passenger Class Distribution\")`**: Sets the title of the chart to \"Passenger Class Distribution.\"\n",
    "\n",
    "- **`plt.xlabel(\"Pclass (1=1st class, 2=2nd Class, 3=3rd class)\")`**: This sets the x-axis label, indicating what each number in the **'Pclass'** column represents (1st, 2nd, and 3rd class).\n",
    "\n",
    "- **`plt.ylabel(\"Count\")`**: Sets the y-axis label to indicate that we are counting the number of passengers in each class.\n",
    "\n",
    "- **`plt.show()`**: Displays the plot.\n",
    "\n",
    "#### Why do we do this?\n",
    "- The bar chart helps to quickly understand the distribution of passengers across the three classes, giving insights into which class had the most or least passengers.\n",
    "\n",
    "\n"
   ]
  },
  {
   "cell_type": "code",
   "execution_count": null,
   "id": "4265aed2",
   "metadata": {},
   "outputs": [
    {
     "data": {
      "image/png": "[encoded data removed]",
      "text/plain": [
       "<Figure size 800x400 with 1 Axes>"
      ]
     },
     "metadata": {},
     "output_type": "display_data"
    }
   ],
   "source": [
    "# Create a bar chart to visualize the distribution of passengers across different classes\n",
    "plt.figure(figsize=(8,4))  # Set the figure size to make the plot wider and clearer\n",
    "\n",
    "# Use seaborn's countplot to plot the distribution of 'Pclass' (passenger class)\n",
    "sns.countplot(x='Pclass', data=df)\n",
    "\n",
    "# Set the title of the plot\n",
    "plt.title(\"Passenger Class Distribution\")\n",
    "\n",
    "# Set the label for the x-axis to describe the meaning of the Pclass values\n",
    "plt.xlabel(\"Pclass (1=1st class, 2=2nd Class, 3=3rd class)\")\n",
    "\n",
    "# Set the label for the y-axis to indicate we are counting the number of passengers\n",
    "plt.ylabel(\"Count\")\n",
    "\n",
    "# Display the plot\n",
    "plt.show()"
   ]
  },
  {
   "cell_type": "markdown",
   "id": "fb56ac53",
   "metadata": {},
   "source": [
    "### Bar Chart for Gender Distribution:\n",
    "\n",
    "In this section, we generate a **bar chart** to visualize the distribution of passengers by gender.\n",
    "\n",
    "#### Steps:\n",
    "- **`sns.countplot(x='Sex', data=df)`**: This line of code creates a **countplot**, which is a bar plot used to show the frequency of occurrences for each gender in the **'Sex'** column.\n",
    "  - **`x='Sex'`**: This specifies that we want to visualize the distribution based on the **'Sex'** column, which represents the gender of passengers.\n",
    "  - **`data=df`**: This tells seaborn to use the DataFrame `df` for plotting.\n",
    "\n",
    "- **`plt.title(\"Gender Distribution\")`**: Sets the title of the chart to \"Gender Distribution.\"\n",
    "\n",
    "- **`plt.xlabel(\"Sex\")`**: This sets the x-axis label to \"Sex\", indicating that we are visualizing gender.\n",
    "\n",
    "- **`plt.ylabel(\"Count\")`**: Sets the y-axis label to indicate that we are counting the number of passengers for each gender.\n",
    "\n",
    "- **`plt.show()`**: Displays the plot.\n",
    "\n",
    "#### Why do we do this?\n",
    "- The bar chart helps to quickly understand the gender distribution of passengers, which could be insightful when analyzing survival rates across genders.\n",
    "\n"
   ]
  },
  {
   "cell_type": "code",
   "execution_count": null,
   "id": "a4a0ac70",
   "metadata": {},
   "outputs": [
    {
     "data": {
      "image/png": "[encoded data removed]",
      "text/plain": [
       "<Figure size 600x400 with 1 Axes>"
      ]
     },
     "metadata": {},
     "output_type": "display_data"
    }
   ],
   "source": [
    "# Create a bar chart to visualize the distribution of passengers by gender\n",
    "plt.figure(figsize=(6,4))  # Set the figure size to make the plot more compact\n",
    "\n",
    "# Use seaborn's countplot to plot the distribution of 'Sex' (gender)\n",
    "sns.countplot(x='Sex', data=df)\n",
    "\n",
    "# Set the title of the plot\n",
    "plt.title(\"Gender Distribution\")\n",
    "\n",
    "# Set the label for the x-axis to indicate that it represents gender\n",
    "plt.xlabel(\"Sex\")\n",
    "\n",
    "# Set the label for the y-axis to indicate we are counting the number of passengers\n",
    "plt.ylabel(\"Count\")\n",
    "\n",
    "# Display the plot\n",
    "plt.show()"
   ]
  },
  {
   "cell_type": "markdown",
   "id": "921a91a4",
   "metadata": {},
   "source": [
    "### Bar Chart for Port of Embarkation:\n",
    "\n",
    "This section visualizes the distribution of passengers across different embarkation ports using a **bar chart**.\n",
    "\n",
    "#### Steps:\n",
    "- **`sns.countplot(x='Embarked', data=df)`**: This creates a **countplot** (a type of bar chart) to show the frequency of passengers who boarded at each port.\n",
    "  - **`x='Embarked'`**: This specifies that the **'Embarked'** column is used to categorize passengers by their embarkation port (Southampton, Queenstown, Cherbourg).\n",
    "  - **`data=df`**: This tells seaborn to use the `df` DataFrame to plot the data.\n",
    "\n",
    "- **`plt.title(\"Port of Embarkation\")`**: This sets the title of the chart to \"Port of Embarkation\" for context.\n",
    "\n",
    "- **`plt.xlabel(\"Port\")`**: This labels the x-axis to indicate the embarkation port where passengers boarded the Titanic.\n",
    "\n",
    "- **`plt.ylabel(\"Count\")`**: This labels the y-axis to show the number of passengers at each port.\n",
    "\n",
    "- **`plt.show()`**: This displays the plot.\n",
    "\n",
    "#### Why do we do this?\n",
    "- The bar chart allows us to quickly identify the number of passengers that embarked from each of the three ports: Southampton, Queenstown, and Cherbourg. It helps in understanding the distribution of passengers before analyzing other factors like survival rates or demographics.\n",
    "\n"
   ]
  },
  {
   "cell_type": "code",
   "execution_count": null,
   "id": "2729e259",
   "metadata": {},
   "outputs": [
    {
     "data": {
      "image/png": "[encoded data removed]",
      "text/plain": [
       "<Figure size 600x400 with 1 Axes>"
      ]
     },
     "metadata": {},
     "output_type": "display_data"
    }
   ],
   "source": [
    "# Create a bar chart to visualize the distribution of passengers across embarkation ports\n",
    "plt.figure(figsize=(6,4))  # Set the figure size for a clear, readable chart\n",
    "\n",
    "# Use seaborn's countplot to plot the distribution of 'Embarked' (embarkation ports)\n",
    "sns.countplot(x='Embarked', data=df)\n",
    "\n",
    "# Set the title of the plot\n",
    "plt.title(\"Port of Embarkation\")\n",
    "\n",
    "# Set the label for the x-axis to indicate that it represents the embarkation ports\n",
    "plt.xlabel(\"Port\")\n",
    "\n",
    "# Set the label for the y-axis to indicate we are counting the number of passengers\n",
    "plt.ylabel(\"Count\")\n",
    "\n",
    "# Display the plot\n",
    "plt.show()"
   ]
  },
  {
   "cell_type": "markdown",
   "id": "540753b4",
   "metadata": {},
   "source": [
    "### Bar Chart for Survival by Gender:\n",
    "\n",
    "This section visualizes the survival distribution based on **gender** using a **bar chart**.\n",
    "\n",
    "#### Steps:\n",
    "- **`sns.countplot(x='Sex', hue='Survived', data=df)`**: This creates a **countplot** to show the number of survivors (and non-survivors) by gender.\n",
    "  - **`x='Sex'`**: This specifies that the x-axis will represent the **'Sex'** column, categorizing the passengers by gender (Male and Female).\n",
    "  - **`hue='Survived'`**: This separates the bars by survival status (0 = No, 1 = Yes), allowing us to visualize the number of survivors and non-survivors within each gender group.\n",
    "  - **`data=df`**: This tells seaborn to use the `df` DataFrame for the data.\n",
    "\n",
    "- **`plt.title(\"Survival by Gender\")`**: This sets the title of the plot to \"Survival by Gender\", providing context for what the chart represents.\n",
    "\n",
    "- **`plt.xlabel(\"Sex\")`**: This labels the x-axis to indicate the gender of the passengers.\n",
    "\n",
    "- **`plt.ylabel(\"Count\")`**: This labels the y-axis to show the count of passengers for each category.\n",
    "\n",
    "- **`plt.legend(title='Survived', labels=['No','Yes'])`**: This customizes the **legend** by giving it a title \"Survived\" and labels 'No' for non-survivors and 'Yes' for survivors.\n",
    "\n",
    "- **`plt.show()`**: This displays the plot.\n",
    "\n",
    "#### Why do we do this?\n",
    "- The bar chart helps us quickly compare the number of survivors and non-survivors based on gender. It offers insights into whether one gender had a higher survival rate than the other.\n",
    "\n",
    "\n"
   ]
  },
  {
   "cell_type": "code",
   "execution_count": null,
   "id": "e500eb8e",
   "metadata": {},
   "outputs": [
    {
     "data": {
      "image/png": "[encoded data removed]",
      "text/plain": [
       "<Figure size 600x400 with 1 Axes>"
      ]
     },
     "metadata": {},
     "output_type": "display_data"
    }
   ],
   "source": [
    "# Create a bar chart to visualize survival by gender\n",
    "plt.figure(figsize=(6,4))  # Set the figure size for a clear and readable chart\n",
    "\n",
    "# Use seaborn's countplot to plot the survival counts by gender\n",
    "sns.countplot(x='Sex', hue='Survived', data=df)\n",
    "\n",
    "# Set the title of the plot\n",
    "plt.title(\"Survival by Gender\")\n",
    "\n",
    "# Set the label for the x-axis to indicate the gender of the passengers\n",
    "plt.xlabel(\"Sex\")\n",
    "\n",
    "# Set the label for the y-axis to show the count of passengers\n",
    "plt.ylabel(\"Count\")\n",
    "\n",
    "# Customize the legend: Set the title and labels for 'Survived' categories (0 = No, 1 = Yes)\n",
    "plt.legend(title='Survived', labels=['No','Yes'])\n",
    "\n",
    "# Display the plot\n",
    "plt.show()"
   ]
  },
  {
   "cell_type": "markdown",
   "id": "fc819b3b",
   "metadata": {},
   "source": [
    "### Histogram for Age Distribution:\n",
    "\n",
    "This section visualizes the distribution of passengers' **ages** using a **histogram**.\n",
    "\n",
    "#### Steps:\n",
    "- **`sns.histplot(df['Age'], bins=20, kde=False, color='skyblue')`**: This command creates a histogram for the **'Age'** column in the dataset.\n",
    "  - **`df['Age']`**: This specifies that the **Age** column of the DataFrame `df` will be plotted.\n",
    "  - **`bins=20`**: This divides the data into 20 bins, which determines the number of bars in the histogram. Adjusting the number of bins can change the resolution of the distribution.\n",
    "  - **`kde=False`**: This disables the Kernel Density Estimate (KDE) plot, meaning only the histogram (bar chart) is shown without the smoothed curve.\n",
    "  - **`color='skyblue'`**: This sets the color of the bars to **skyblue**, giving the chart a light, aesthetically pleasing tone.\n",
    "\n",
    "- **`plt.title(\"Age Distribution\")`**: This sets the title of the plot to \"Age Distribution\", indicating that the plot represents the age distribution of passengers.\n",
    "\n",
    "- **`plt.xlabel(\"Age\")`**: This labels the x-axis as \"Age\", indicating that the horizontal axis represents passengers' ages.\n",
    "\n",
    "- **`plt.ylabel(\"Count\")`**: This labels the y-axis as \"Count\", showing the number of passengers in each age bin.\n",
    "\n",
    "- **`plt.show()`**: This displays the plot.\n",
    "\n",
    "#### Why do we do this?\n",
    "- The histogram helps to understand the **distribution** of passengers' ages. It gives an insight into how many passengers were in different age groups.\n",
    "- We can use this chart to analyze the age distribution (e.g., if there were more children or elderly passengers) and check for **outliers** or skewness in age.\n",
    "\n"
   ]
  },
  {
   "cell_type": "code",
   "execution_count": null,
   "id": "a93fe811",
   "metadata": {},
   "outputs": [
    {
     "data": {
      "image/png": "[encoded data removed]",
      "text/plain": [
       "<Figure size 600x400 with 1 Axes>"
      ]
     },
     "metadata": {},
     "output_type": "display_data"
    }
   ],
   "source": [
    "# Create a histogram to visualize the age distribution of passengers\n",
    "plt.figure(figsize=(6,4))  # Set the figure size for readability and clarity\n",
    "\n",
    "# Use seaborn's histplot to plot the distribution of Age\n",
    "sns.histplot(df['Age'], bins=20, kde=False, color='skyblue')\n",
    "\n",
    "# Set the title of the plot to indicate it shows the age distribution\n",
    "plt.title(\"Age Distribution\")\n",
    "\n",
    "# Label the x-axis as \"Age\" to indicate the age of passengers\n",
    "plt.xlabel(\"Age\")\n",
    "\n",
    "# Label the y-axis as \"Count\" to show the number of passengers in each age group\n",
    "plt.ylabel(\"Count\")\n",
    "\n",
    "# Display the plot\n",
    "plt.show()"
   ]
  },
  {
   "cell_type": "markdown",
   "id": "0c28da8d",
   "metadata": {},
   "source": [
    "### Histogram for Fare Distribution:\n",
    "\n",
    "This section visualizes the distribution of passengers' **fares** using a **histogram**.\n",
    "\n",
    "#### Steps:\n",
    "- **`sns.histplot(df['Fare'], bins=30, kde=False, color='lightgreen')`**: This command creates a histogram for the **'Fare'** column in the dataset.\n",
    "  - **`df['Fare']`**: Specifies that the **Fare** column of the DataFrame `df` will be plotted.\n",
    "  - **`bins=30`**: This divides the fare data into 30 bins, determining the number of bars in the histogram. Adjusting the number of bins can affect the chart’s resolution.\n",
    "  - **`kde=False`**: Disables the Kernel Density Estimate (KDE) plot, so only the histogram (bar chart) is shown.\n",
    "  - **`color='lightgreen'`**: The bars of the histogram will be colored **light green**, providing a softer visual tone.\n",
    "\n",
    "- **`plt.title(\"Fare Distribution\")`**: Sets the title of the plot to \"Fare Distribution,\" clearly indicating the data being visualized.\n",
    "\n",
    "- **`plt.xlabel(\"Fare\")`**: Labels the x-axis as \"Fare,\" indicating that the horizontal axis represents the fare prices passengers paid.\n",
    "\n",
    "- **`plt.ylabel(\"Count\")`**: Labels the y-axis as \"Count,\" showing the number of passengers in each fare bin.\n",
    "\n",
    "- **`plt.show()`**: Displays the plot.\n",
    "\n",
    "#### Why do we do this?\n",
    "- The histogram helps to understand the **distribution** of the fares passengers paid. It shows the number of passengers who paid fares in specific ranges.\n",
    "- This chart can help identify **outliers**, patterns in the fare distribution, and possible **skewness** in the fare prices (e.g., many passengers paying low fares, with a few paying high fares).\n",
    "\n"
   ]
  },
  {
   "cell_type": "code",
   "execution_count": null,
   "id": "e63b4707",
   "metadata": {},
   "outputs": [
    {
     "data": {
      "image/png": "[encoded data removed]",
      "text/plain": [
       "<Figure size 600x400 with 1 Axes>"
      ]
     },
     "metadata": {},
     "output_type": "display_data"
    }
   ],
   "source": [
    "# Create a histogram to visualize the fare distribution of passengers\n",
    "plt.figure(figsize=(6,4))  # Set the figure size for better clarity\n",
    "\n",
    "# Use seaborn's histplot to plot the distribution of Fare\n",
    "sns.histplot(df['Fare'], bins=30, kde=False, color='lightgreen')\n",
    "\n",
    "# Set the title of the plot to indicate it shows the fare distribution\n",
    "plt.title(\"Fare Distribution\")\n",
    "\n",
    "# Label the x-axis as \"Fare\" to indicate the fare prices passengers paid\n",
    "plt.xlabel(\"Fare\")\n",
    "\n",
    "# Label the y-axis as \"Count\" to show the number of passengers in each fare group\n",
    "plt.ylabel(\"Count\")\n",
    "\n",
    "# Display the plot\n",
    "plt.show()"
   ]
  },
  {
   "cell_type": "markdown",
   "id": "c3ea9741",
   "metadata": {},
   "source": [
    "### Correlation Heatmap of Numeric Features:\n",
    "\n",
    "This section calculates and visualizes the **correlations** between various numeric features in the dataset using a **heatmap**.\n",
    "\n",
    "#### Steps:\n",
    "1. **Compute Correlations:**\n",
    "   - **`corr = df[['Survived', 'Pclass', 'Age', 'SibSp', 'Parch', 'Fare']].corr()`**: This command calculates the correlation matrix for the specified numeric columns: 'Survived', 'Pclass', 'Age', 'SibSp', 'Parch', and 'Fare'.\n",
    "     - **`df[['Survived', 'Pclass', 'Age', 'SibSp', 'Parch', 'Fare']]`**: Selects the relevant numeric columns from the DataFrame `df`.\n",
    "     - **`.corr()`**: Computes the **Pearson correlation coefficient** between the numeric features. The correlation ranges from -1 (perfect negative correlation) to +1 (perfect positive correlation), with 0 indicating no correlation.\n",
    "\n",
    "2. **Plot Correlation Heatmap:**\n",
    "   - **`plt.figure(figsize=(6,5))`**: Adjusts the size of the figure to make it more readable.\n",
    "   - **`sns.heatmap(corr, annot=True, fmt=\".2f\", cmap=\"coolwarm\", vmin=-1, vmax=1)`**: Plots a heatmap using the **seaborn** library to visualize the correlation matrix.\n",
    "     - **`corr`**: The correlation matrix to be plotted.\n",
    "     - **`annot=True`**: Displays the numerical values of the correlation coefficients within the heatmap cells.\n",
    "     - **`fmt=\".2f\"`**: Specifies the format of the numbers in the cells (rounded to 2 decimal places).\n",
    "     - **`cmap=\"coolwarm\"`**: Defines the color palette for the heatmap, where cooler colors represent negative correlations and warmer colors represent positive correlations.\n",
    "     - **`vmin=-1, vmax=1`**: Sets the minimum and maximum values for the color scale, ensuring it ranges from -1 to 1.\n",
    "\n",
    "3. **Title and Display:**\n",
    "   - **`plt.title(\"Correlation Heatmap of Numeric Features\")`**: Adds a title to the heatmap for clarity.\n",
    "   - **`plt.show()`**: Displays the heatmap.\n",
    "\n",
    "#### Why do we do this?\n",
    "- **Correlation Analysis**: The heatmap provides a visual representation of how numeric features are related to each other. Strong positive or negative correlations between features can indicate patterns and relationships that might be important for further analysis.\n",
    "- **Insights from Correlation**: By analyzing the heatmap, we can identify highly correlated variables, which can help in feature selection or engineering for machine learning models.\n",
    "\n"
   ]
  },
  {
   "cell_type": "code",
   "execution_count": null,
   "id": "08913bf2",
   "metadata": {},
   "outputs": [
    {
     "data": {
      "image/png": "[encoded data removed]",
      "text/plain": [
       "<Figure size 600x500 with 2 Axes>"
      ]
     },
     "metadata": {},
     "output_type": "display_data"
    }
   ],
   "source": [
    "# Compute correlations among numeric features\n",
    "# Select relevant numeric columns and calculate their pairwise correlations\n",
    "corr = df[['Survived', 'Pclass', 'Age', 'SibSp', 'Parch', 'Fare']].corr()\n",
    "\n",
    "# Plot the correlation heatmap\n",
    "# Set the figure size to (6, 5) for better readability\n",
    "plt.figure(figsize=(6,5))\n",
    "\n",
    "# Create the heatmap using seaborn\n",
    "# annot=True: Display the correlation coefficients in the heatmap\n",
    "# fmt=\".2f\": Format the numbers to show two decimal places\n",
    "# cmap=\"coolwarm\": Use a cool-to-warm color palette for the heatmap\n",
    "# vmin=-1, vmax=1: Set the range of the color scale from -1 to 1\n",
    "sns.heatmap(corr, annot=True, fmt=\".2f\", cmap=\"coolwarm\", vmin=-1, vmax=1)\n",
    "\n",
    "# Add a title to the heatmap to describe its content\n",
    "plt.title(\"Correlation Heatmap of Numeric Features\")\n",
    "\n",
    "# Display the heatmap\n",
    "plt.show()\n"
   ]
  }
 ],
 "metadata": {
  "kernelspec": {
   "display_name": "Python 3",
   "language": "python",
   "name": "python3"
  },
  "language_info": {
   "codemirror_mode": {
    "name": "ipython",
    "version": 3
   },
   "file_extension": ".py",
   "mimetype": "text/x-python",
   "name": "python",
   "nbconvert_exporter": "python",
   "pygments_lexer": "ipython3",
   "version": "3.13.3"
  }
 },
 "nbformat": 4,
 "nbformat_minor": 5
}
